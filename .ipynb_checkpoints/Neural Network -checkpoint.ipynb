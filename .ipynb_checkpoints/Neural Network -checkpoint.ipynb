{
 "cells": [
  {
   "cell_type": "code",
   "execution_count": 9,
   "metadata": {
    "collapsed": false
   },
   "outputs": [],
   "source": [
    "import numpy\n",
    "import scipy.special\n",
    "\n",
    "# neural network class definition\n",
    "class neuralNetwork:\n",
    "    \n",
    "    # initialise the neural network\n",
    "    def __init__(self, inputNodes, hiddenNodes, outputNodes, learningRate):\n",
    "\n",
    "        self.inodes = inputNodes\n",
    "        self.hnodes = hiddenNodes\n",
    "        self.onodes = outputNodes\n",
    "        self.lr = learningRate\n",
    "        \n",
    "        \n",
    "        self.wih = numpy.random.normal(0.0, pow(self.hnodes, -0.5), (self.hnodes, self.inodes))\n",
    "        self.who = numpy.random.normal(0.0, pow(self.onodes, -0.5), (self.onodes, self.hnodes))\n",
    "        \n",
    "        # sigmoid function\n",
    "        self.activationFunction = lambda x: scipy.special.expit(x)\n",
    "        pass\n",
    "    \n",
    "    # train the neural network\n",
    "    def train(self, inputsList, targetsList):\n",
    "        inputs = numpy.array(inputsList, ndmin=2).T\n",
    "        targets = numpy.array(targetsList, ndmin=2).T\n",
    "        \n",
    "        hiddenInputs = numpy.dot(self.wih, inputs)\n",
    "        hiddenOutputs = self.activationFunction(hiddenInputs)\n",
    "        \n",
    "        finalInputs = numpy.dot(self.who, hiddenOutputs)\n",
    "        finalOutputs = self.activationFunction(finalInputs)\n",
    "        \n",
    "        outputErrors = targets - finalOutputs\n",
    "        hiddenErrors = numpy.dot(self.who.T, outputErrors)\n",
    "        \n",
    "        self.who += self.lr * numpy.dot((outputErrors * finalOutputs * (1.0 - finalOutputs)), numpy.transpose(hiddenOutputs))\n",
    "        \n",
    "        self.wih += self.lr * numpy.dot((hiddenErrors * hiddenOutputs * (1.0 - hiddenOutputs)), numpy.transpose(inputs))\n",
    "        \n",
    "        pass\n",
    "    \n",
    "    # query the neural network\n",
    "    def query(self, inputList):\n",
    "        inputs = numpy.array(inputList, ndmin = 2).T\n",
    "                    \n",
    "        hiddenInputs = numpy.dot(self.wih, inputs)\n",
    "                    \n",
    "        hiddenOutputs = self.activationFunction(hiddenInputs)\n",
    "        \n",
    "        finalInputs = numpy.dot(self.who, hiddenOutputs)\n",
    "        \n",
    "        finalOutputs = self.activationFunction(finalInputs)\n",
    "        return finalOutputs\n",
    "                    "
   ]
  },
  {
   "cell_type": "code",
   "execution_count": 10,
   "metadata": {
    "collapsed": false
   },
   "outputs": [
    {
     "data": {
      "text/plain": [
       "array([[ 0.33146201],\n",
       "       [ 0.43895573],\n",
       "       [ 0.59954292]])"
      ]
     },
     "execution_count": 10,
     "metadata": {},
     "output_type": "execute_result"
    }
   ],
   "source": [
    "inputNodes = 3\n",
    "hiddenNodes = 3\n",
    "outputNodes = 3\n",
    "\n",
    "learningRate = 0.3\n",
    "n = neuralNetwork(inputNodes, hiddenNodes, outputNodes, learningRate)\n",
    "n.query([1.0, 0.5, -1.5])"
   ]
  },
  {
   "cell_type": "code",
   "execution_count": null,
   "metadata": {
    "collapsed": true
   },
   "outputs": [],
   "source": []
  }
 ],
 "metadata": {
  "kernelspec": {
   "display_name": "Python 3",
   "language": "python",
   "name": "python3"
  },
  "language_info": {
   "codemirror_mode": {
    "name": "ipython",
    "version": 3
   },
   "file_extension": ".py",
   "mimetype": "text/x-python",
   "name": "python",
   "nbconvert_exporter": "python",
   "pygments_lexer": "ipython3",
   "version": "3.6.0b1"
  }
 },
 "nbformat": 4,
 "nbformat_minor": 1
}
