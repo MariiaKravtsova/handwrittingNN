{
 "cells": [
  {
   "cell_type": "code",
   "execution_count": null,
   "metadata": {
    "collapsed": true
   },
   "outputs": [],
   "source": [
    "import numpy\n",
    "import matplotlib.pyplot\n",
    "%matplotlib inline\n",
    "\n",
    "dataFile = open(\"mnist_dataset/mnist_train_100.csv\", \"r\")\n",
    "dataList = dataFile.readlines()\n",
    "dataFile.close()\n",
    "\n",
    "allValues = dataList[1].split(',')\n",
    "imageArray = numpy.asfarray(allValues[1:]).reshape((28,28))\n",
    "matplotlib.pyplot.imshow(imageArray, cmap='Greys', interpolation='None')"
   ]
  }
 ],
 "metadata": {
  "kernelspec": {
   "display_name": "Python 3",
   "language": "python",
   "name": "python3"
  },
  "language_info": {
   "codemirror_mode": {
    "name": "ipython",
    "version": 3
   },
   "file_extension": ".py",
   "mimetype": "text/x-python",
   "name": "python",
   "nbconvert_exporter": "python",
   "pygments_lexer": "ipython3",
   "version": "3.6.0b1"
  }
 },
 "nbformat": 4,
 "nbformat_minor": 1
}
